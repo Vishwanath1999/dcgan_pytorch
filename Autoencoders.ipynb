{
  "nbformat": 4,
  "nbformat_minor": 0,
  "metadata": {
    "colab": {
      "name": "Untitled10.ipynb",
      "provenance": [],
      "authorship_tag": "ABX9TyPL+d+QaqFCyXjEe1XnHyQs",
      "include_colab_link": true
    },
    "kernelspec": {
      "name": "python3",
      "display_name": "Python 3"
    }
  },
  "cells": [
    {
      "cell_type": "markdown",
      "metadata": {
        "id": "view-in-github",
        "colab_type": "text"
      },
      "source": [
        "<a href=\"https://colab.research.google.com/github/Vishwanath1999/dcgan_pytorch/blob/master/Autoencoders.ipynb\" target=\"_parent\"><img src=\"https://colab.research.google.com/assets/colab-badge.svg\" alt=\"Open In Colab\"/></a>"
      ]
    },
    {
      "cell_type": "code",
      "metadata": {
        "colab_type": "code",
        "id": "6O3nOCZLtySe",
        "colab": {
          "base_uri": "https://localhost:8080/",
          "height": 79
        },
        "outputId": "cee4aa90-2728-4bc9-b566-61bd5dd88000"
      },
      "source": [
        "import numpy as np\n",
        "from keras.layers import Input, Dense\n",
        "from keras.models import Model\n",
        "from keras.datasets import mnist\n",
        "import matplotlib.pyplot as plt"
      ],
      "execution_count": 1,
      "outputs": [
        {
          "output_type": "stream",
          "text": [
            "Using TensorFlow backend.\n"
          ],
          "name": "stderr"
        },
        {
          "output_type": "display_data",
          "data": {
            "text/html": [
              "<p style=\"color: red;\">\n",
              "The default version of TensorFlow in Colab will soon switch to TensorFlow 2.x.<br>\n",
              "We recommend you <a href=\"https://www.tensorflow.org/guide/migrate\" target=\"_blank\">upgrade</a> now \n",
              "or ensure your notebook will continue to use TensorFlow 1.x via the <code>%tensorflow_version 1.x</code> magic:\n",
              "<a href=\"https://colab.research.google.com/notebooks/tensorflow_version.ipynb\" target=\"_blank\">more info</a>.</p>\n"
            ],
            "text/plain": [
              "<IPython.core.display.HTML object>"
            ]
          },
          "metadata": {
            "tags": []
          }
        }
      ]
    },
    {
      "cell_type": "code",
      "metadata": {
        "id": "CqLBmAoDtzuv",
        "colab_type": "code",
        "colab": {
          "base_uri": "https://localhost:8080/",
          "height": 222
        },
        "outputId": "8bbdd46e-4ee5-4d20-b611-189f9380ceb6"
      },
      "source": [
        "encoding_dim = 32\n",
        "input_img = Input(shape=(784,))\n",
        "encoded = Dense(encoding_dim, activation='relu')(input_img)\n",
        "decoded = Dense(784, activation='sigmoid')(encoded)\n",
        "autoencoder = Model(input_img, decoded)\n",
        "encoder = Model(input_img, encoded)\n",
        "encoded_input = Input(shape = (encoding_dim, ))\n",
        "decoder_layer = autoencoder.layers[-1]\n",
        "decoder = Model(encoded_input, decoder_layer(encoded_input))\n",
        "autoencoder.compile(optimizer = 'adam', loss = 'binary_crossentropy')\n",
        "(x_train, _), (x_test, _) = mnist.load_data()\n",
        "x_train = x_train.astype('float32')/255\n",
        "x_test = x_test.astype('float32')/255\n",
        "x_train = x_train.reshape((len(x_train), np.prod(x_train.shape[1:])))\n",
        "x_test = x_test.reshape((len(x_test), np.prod(x_test.shape[1:])))\n",
        "print(x_train.shape)\n",
        "print(x_test.shape)\n"
      ],
      "execution_count": 3,
      "outputs": [
        {
          "output_type": "stream",
          "text": [
            "WARNING:tensorflow:From /usr/local/lib/python3.6/dist-packages/keras/optimizers.py:793: The name tf.train.Optimizer is deprecated. Please use tf.compat.v1.train.Optimizer instead.\n",
            "\n",
            "WARNING:tensorflow:From /usr/local/lib/python3.6/dist-packages/keras/backend/tensorflow_backend.py:3657: The name tf.log is deprecated. Please use tf.math.log instead.\n",
            "\n",
            "WARNING:tensorflow:From /tensorflow-1.15.0/python3.6/tensorflow_core/python/ops/nn_impl.py:183: where (from tensorflow.python.ops.array_ops) is deprecated and will be removed in a future version.\n",
            "Instructions for updating:\n",
            "Use tf.where in 2.0, which has the same broadcast rule as np.where\n",
            "Downloading data from https://s3.amazonaws.com/img-datasets/mnist.npz\n",
            "11493376/11490434 [==============================] - 2s 0us/step\n",
            "(60000, 784)\n",
            "(10000, 784)\n"
          ],
          "name": "stdout"
        }
      ]
    },
    {
      "cell_type": "code",
      "metadata": {
        "id": "s7wrlfQ8x2yx",
        "colab_type": "code",
        "colab": {
          "base_uri": "https://localhost:8080/",
          "height": 1000
        },
        "outputId": "f579b996-1bef-4a85-a977-9208c12e9b1c"
      },
      "source": [
        "autoencoder.fit(x_train, x_train,\n",
        "                epochs = 50,\n",
        "                batch_size = 256,\n",
        "                shuffle = True,\n",
        "                validation_data = (x_test,x_test))\n",
        "encoded_images = encoder.predict(x_test)\n",
        "decoded_images = decoder.predict(encoded_images)"
      ],
      "execution_count": 5,
      "outputs": [
        {
          "output_type": "stream",
          "text": [
            "WARNING:tensorflow:From /usr/local/lib/python3.6/dist-packages/keras/backend/tensorflow_backend.py:1033: The name tf.assign_add is deprecated. Please use tf.compat.v1.assign_add instead.\n",
            "\n",
            "WARNING:tensorflow:From /usr/local/lib/python3.6/dist-packages/keras/backend/tensorflow_backend.py:1020: The name tf.assign is deprecated. Please use tf.compat.v1.assign instead.\n",
            "\n",
            "WARNING:tensorflow:From /usr/local/lib/python3.6/dist-packages/keras/backend/tensorflow_backend.py:3005: The name tf.Session is deprecated. Please use tf.compat.v1.Session instead.\n",
            "\n",
            "Train on 60000 samples, validate on 10000 samples\n",
            "Epoch 1/50\n",
            "WARNING:tensorflow:From /usr/local/lib/python3.6/dist-packages/keras/backend/tensorflow_backend.py:190: The name tf.get_default_session is deprecated. Please use tf.compat.v1.get_default_session instead.\n",
            "\n",
            "WARNING:tensorflow:From /usr/local/lib/python3.6/dist-packages/keras/backend/tensorflow_backend.py:197: The name tf.ConfigProto is deprecated. Please use tf.compat.v1.ConfigProto instead.\n",
            "\n",
            "WARNING:tensorflow:From /usr/local/lib/python3.6/dist-packages/keras/backend/tensorflow_backend.py:207: The name tf.global_variables is deprecated. Please use tf.compat.v1.global_variables instead.\n",
            "\n",
            "WARNING:tensorflow:From /usr/local/lib/python3.6/dist-packages/keras/backend/tensorflow_backend.py:216: The name tf.is_variable_initialized is deprecated. Please use tf.compat.v1.is_variable_initialized instead.\n",
            "\n",
            "WARNING:tensorflow:From /usr/local/lib/python3.6/dist-packages/keras/backend/tensorflow_backend.py:223: The name tf.variables_initializer is deprecated. Please use tf.compat.v1.variables_initializer instead.\n",
            "\n",
            "60000/60000 [==============================] - 4s 63us/step - loss: 0.2761 - val_loss: 0.1914\n",
            "Epoch 2/50\n",
            "60000/60000 [==============================] - 3s 55us/step - loss: 0.1723 - val_loss: 0.1547\n",
            "Epoch 3/50\n",
            "60000/60000 [==============================] - 3s 51us/step - loss: 0.1458 - val_loss: 0.1357\n",
            "Epoch 4/50\n",
            "60000/60000 [==============================] - 3s 51us/step - loss: 0.1306 - val_loss: 0.1231\n",
            "Epoch 5/50\n",
            "60000/60000 [==============================] - 3s 53us/step - loss: 0.1198 - val_loss: 0.1142\n",
            "Epoch 6/50\n",
            "60000/60000 [==============================] - 3s 52us/step - loss: 0.1121 - val_loss: 0.1077\n",
            "Epoch 7/50\n",
            "60000/60000 [==============================] - 3s 53us/step - loss: 0.1066 - val_loss: 0.1031\n",
            "Epoch 8/50\n",
            "60000/60000 [==============================] - 3s 54us/step - loss: 0.1026 - val_loss: 0.0997\n",
            "Epoch 9/50\n",
            "60000/60000 [==============================] - 3s 52us/step - loss: 0.0997 - val_loss: 0.0974\n",
            "Epoch 10/50\n",
            "60000/60000 [==============================] - 3s 51us/step - loss: 0.0977 - val_loss: 0.0957\n",
            "Epoch 11/50\n",
            "60000/60000 [==============================] - 3s 52us/step - loss: 0.0964 - val_loss: 0.0946\n",
            "Epoch 12/50\n",
            "60000/60000 [==============================] - 3s 52us/step - loss: 0.0955 - val_loss: 0.0940\n",
            "Epoch 13/50\n",
            "60000/60000 [==============================] - 3s 52us/step - loss: 0.0949 - val_loss: 0.0934\n",
            "Epoch 14/50\n",
            "60000/60000 [==============================] - 3s 52us/step - loss: 0.0945 - val_loss: 0.0931\n",
            "Epoch 15/50\n",
            "60000/60000 [==============================] - 3s 51us/step - loss: 0.0942 - val_loss: 0.0929\n",
            "Epoch 16/50\n",
            "60000/60000 [==============================] - 3s 52us/step - loss: 0.0939 - val_loss: 0.0926\n",
            "Epoch 17/50\n",
            "60000/60000 [==============================] - 3s 51us/step - loss: 0.0938 - val_loss: 0.0924\n",
            "Epoch 18/50\n",
            "60000/60000 [==============================] - 3s 52us/step - loss: 0.0936 - val_loss: 0.0924\n",
            "Epoch 19/50\n",
            "60000/60000 [==============================] - 3s 51us/step - loss: 0.0935 - val_loss: 0.0923\n",
            "Epoch 20/50\n",
            "60000/60000 [==============================] - 3s 51us/step - loss: 0.0934 - val_loss: 0.0922\n",
            "Epoch 21/50\n",
            "60000/60000 [==============================] - 3s 52us/step - loss: 0.0933 - val_loss: 0.0920\n",
            "Epoch 22/50\n",
            "60000/60000 [==============================] - 3s 52us/step - loss: 0.0933 - val_loss: 0.0920\n",
            "Epoch 23/50\n",
            "60000/60000 [==============================] - 3s 51us/step - loss: 0.0932 - val_loss: 0.0920\n",
            "Epoch 24/50\n",
            "60000/60000 [==============================] - 3s 52us/step - loss: 0.0932 - val_loss: 0.0920\n",
            "Epoch 25/50\n",
            "60000/60000 [==============================] - 3s 51us/step - loss: 0.0931 - val_loss: 0.0919\n",
            "Epoch 26/50\n",
            "60000/60000 [==============================] - 3s 50us/step - loss: 0.0931 - val_loss: 0.0918\n",
            "Epoch 27/50\n",
            "60000/60000 [==============================] - 3s 52us/step - loss: 0.0930 - val_loss: 0.0918\n",
            "Epoch 28/50\n",
            "60000/60000 [==============================] - 3s 52us/step - loss: 0.0930 - val_loss: 0.0918\n",
            "Epoch 29/50\n",
            "60000/60000 [==============================] - 3s 50us/step - loss: 0.0930 - val_loss: 0.0918\n",
            "Epoch 30/50\n",
            "60000/60000 [==============================] - 3s 51us/step - loss: 0.0929 - val_loss: 0.0917\n",
            "Epoch 31/50\n",
            "60000/60000 [==============================] - 3s 51us/step - loss: 0.0929 - val_loss: 0.0917\n",
            "Epoch 32/50\n",
            "60000/60000 [==============================] - 3s 51us/step - loss: 0.0929 - val_loss: 0.0918\n",
            "Epoch 33/50\n",
            "60000/60000 [==============================] - 3s 51us/step - loss: 0.0929 - val_loss: 0.0916\n",
            "Epoch 34/50\n",
            "60000/60000 [==============================] - 3s 51us/step - loss: 0.0928 - val_loss: 0.0917\n",
            "Epoch 35/50\n",
            "60000/60000 [==============================] - 3s 52us/step - loss: 0.0928 - val_loss: 0.0917\n",
            "Epoch 36/50\n",
            "60000/60000 [==============================] - 3s 51us/step - loss: 0.0928 - val_loss: 0.0917\n",
            "Epoch 37/50\n",
            "60000/60000 [==============================] - 3s 50us/step - loss: 0.0928 - val_loss: 0.0917\n",
            "Epoch 38/50\n",
            "60000/60000 [==============================] - 3s 51us/step - loss: 0.0928 - val_loss: 0.0916\n",
            "Epoch 39/50\n",
            "60000/60000 [==============================] - 3s 52us/step - loss: 0.0927 - val_loss: 0.0916\n",
            "Epoch 40/50\n",
            "60000/60000 [==============================] - 3s 50us/step - loss: 0.0927 - val_loss: 0.0916\n",
            "Epoch 41/50\n",
            "60000/60000 [==============================] - 3s 52us/step - loss: 0.0927 - val_loss: 0.0916\n",
            "Epoch 42/50\n",
            "60000/60000 [==============================] - 3s 52us/step - loss: 0.0927 - val_loss: 0.0917\n",
            "Epoch 43/50\n",
            "60000/60000 [==============================] - 3s 51us/step - loss: 0.0927 - val_loss: 0.0916\n",
            "Epoch 44/50\n",
            "60000/60000 [==============================] - 3s 52us/step - loss: 0.0927 - val_loss: 0.0915\n",
            "Epoch 45/50\n",
            "60000/60000 [==============================] - 3s 51us/step - loss: 0.0927 - val_loss: 0.0915\n",
            "Epoch 46/50\n",
            "60000/60000 [==============================] - 3s 51us/step - loss: 0.0927 - val_loss: 0.0918\n",
            "Epoch 47/50\n",
            "60000/60000 [==============================] - 3s 51us/step - loss: 0.0927 - val_loss: 0.0915\n",
            "Epoch 48/50\n",
            "60000/60000 [==============================] - 3s 51us/step - loss: 0.0926 - val_loss: 0.0916\n",
            "Epoch 49/50\n",
            "60000/60000 [==============================] - 3s 51us/step - loss: 0.0926 - val_loss: 0.0915\n",
            "Epoch 50/50\n",
            "60000/60000 [==============================] - 3s 51us/step - loss: 0.0926 - val_loss: 0.0914\n"
          ],
          "name": "stdout"
        }
      ]
    },
    {
      "cell_type": "code",
      "metadata": {
        "id": "I-2K7fg6z5_W",
        "colab_type": "code",
        "colab": {
          "base_uri": "https://localhost:8080/",
          "height": 134
        },
        "outputId": "380187ba-d32e-4f75-9668-8a408aeb7c3e"
      },
      "source": [
        "n = 20\n",
        "plt.figure(figsize = (20,4))\n",
        "for i in range(n):\n",
        "  #input images\n",
        "  ax = plt.subplot(2, n, i+1)\n",
        "  plt.imshow(x_test[i].reshape(28,28))\n",
        "  plt.gray()\n",
        "  ax.get_xaxis().set_visible(False)\n",
        "  ax.get_yaxis().set_visible(False)\n",
        "\n",
        "  #decoded images\n",
        "  ax = plt.subplot(2, n, i+1)\n",
        "  plt.imshow(decoded_images[i].reshape(28,28))\n",
        "  plt.gray()\n",
        "  ax.get_xaxis().set_visible(False)\n",
        "  ax.get_yaxis().set_visible(False)\n",
        "\n",
        "plt.show()"
      ],
      "execution_count": 9,
      "outputs": [
        {
          "output_type": "stream",
          "text": [
            "/usr/local/lib/python3.6/dist-packages/ipykernel_launcher.py:12: MatplotlibDeprecationWarning: Adding an axes using the same arguments as a previous axes currently reuses the earlier instance.  In a future version, a new instance will always be created and returned.  Meanwhile, this warning can be suppressed, and the future behavior ensured, by passing a unique label to each axes instance.\n",
            "  if sys.path[0] == '':\n"
          ],
          "name": "stderr"
        },
        {
          "output_type": "display_data",
          "data": {
            "image/png": "[encoded data removed]",
            "text/plain": [
              "<Figure size 1440x288 with 20 Axes>"
            ]
          },
          "metadata": {
            "tags": []
          }
        }
      ]
    }
  ]
}